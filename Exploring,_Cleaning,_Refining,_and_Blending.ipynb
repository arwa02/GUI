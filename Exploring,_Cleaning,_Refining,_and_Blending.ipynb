{
  "nbformat": 4,
  "nbformat_minor": 0,
  "metadata": {
    "colab": {
      "private_outputs": true,
      "provenance": [],
      "authorship_tag": "ABX9TyMuiJ8+58TF/cVgd8r55y5l",
      "include_colab_link": true
    },
    "kernelspec": {
      "name": "python3",
      "display_name": "Python 3"
    },
    "language_info": {
      "name": "python"
    }
  },
  "cells": [
    {
      "cell_type": "markdown",
      "metadata": {
        "id": "view-in-github",
        "colab_type": "text"
      },
      "source": [
        "<a href=\"https://colab.research.google.com/github/arwa02/GUI/blob/master/Exploring%2C_Cleaning%2C_Refining%2C_and_Blending.ipynb\" target=\"_parent\"><img src=\"https://colab.research.google.com/assets/colab-badge.svg\" alt=\"Open In Colab\"/></a>"
      ]
    },
    {
      "cell_type": "code",
      "execution_count": null,
      "metadata": {
        "id": "CfRNFriQsXvo"
      },
      "outputs": [],
      "source": [
        "import sqlite3\n",
        "import pandas as pd\n",
        "\n",
        "conn=sqlite3.connect('user_hits.db')\n"
      ]
    },
    {
      "cell_type": "code",
      "source": [
        "df_user_ch = pd.read_sql_query(\"SELECT *FROM tbl_user_hits ; \" , conn)"
      ],
      "metadata": {
        "id": "G3hl0EBqtEBh"
      },
      "execution_count": null,
      "outputs": []
    },
    {
      "cell_type": "code",
      "source": [
        "df_user_ch.head()"
      ],
      "metadata": {
        "id": "wCBZ9r1nthQu"
      },
      "execution_count": null,
      "outputs": []
    },
    {
      "cell_type": "code",
      "source": [
        "df_user_ch.info()"
      ],
      "metadata": {
        "id": "FJ4pBSkhtnXm"
      },
      "execution_count": null,
      "outputs": []
    },
    {
      "cell_type": "markdown",
      "source": [
        "# storing"
      ],
      "metadata": {
        "id": "DzMkGUVnzAmS"
      }
    },
    {
      "cell_type": "code",
      "source": [
        "df_user_ch.to_csv(\"user_hits.csv\") #creat a csv file to store a dataframe"
      ],
      "metadata": {
        "id": "9MOW7azGvZNk"
      },
      "execution_count": null,
      "outputs": []
    },
    {
      "cell_type": "code",
      "source": [
        "#Restricting\n",
        "df_user_rest=df_user_ch[df_user_ch['userid']==3]\n",
        "df_user_rest.head()\n"
      ],
      "metadata": {
        "id": "lzQB2EgD01q7"
      },
      "execution_count": null,
      "outputs": []
    },
    {
      "cell_type": "code",
      "source": [
        "#df_user_rest=df_user_ch[df_user_ch['date']==1/1/2017]\n",
        "#df_user_rest.head()\n",
        "\n"
      ],
      "metadata": {
        "id": "VNi6qg-V7pbk"
      },
      "execution_count": null,
      "outputs": []
    },
    {
      "cell_type": "code",
      "source": [
        "#sorting\n",
        "df_user_rest.sort_values(by ='date')\n"
      ],
      "metadata": {
        "id": "rvfqssTt9v0s"
      },
      "execution_count": null,
      "outputs": []
    },
    {
      "cell_type": "code",
      "source": [
        "df_user_rest.sort_values(by ='date' , ascending=False)\n"
      ],
      "metadata": {
        "id": "k71MHVhEFIza"
      },
      "execution_count": null,
      "outputs": []
    },
    {
      "cell_type": "code",
      "source": [
        "#sifting\n",
        "df_user_ch_cleaned = pd.read_csv('user_hits_binning_import.csv' , parse_dates=['date']) #creat a new datafram to load the data from the source"
      ],
      "metadata": {
        "id": "Vdec-VVUJKa1"
      },
      "execution_count": null,
      "outputs": []
    },
    {
      "cell_type": "code",
      "source": [
        "import datetime\n",
        "now=pd.to_datetime('now')\n",
        "df_user_ch_cleaned['age'] = now - df_user_ch_cleaned['date']\n"
      ],
      "metadata": {
        "id": "JTD-0rBxJ6Mc"
      },
      "execution_count": null,
      "outputs": []
    },
    {
      "cell_type": "code",
      "source": [
        "df_usage_patterns = pd.read_csv('user_hits_binning_import.csv')\n",
        "df_usage_patterns.head()"
      ],
      "metadata": {
        "id": "b-zyboBdPjvB"
      },
      "execution_count": null,
      "outputs": []
    },
    {
      "cell_type": "code",
      "source": [
        "df_usage_patterns.info()"
      ],
      "metadata": {
        "id": "qfewUUovODrl"
      },
      "execution_count": null,
      "outputs": []
    },
    {
      "cell_type": "code",
      "source": [
        "pd.isnull(df_usage_patterns)"
      ],
      "metadata": {
        "id": "6DCjn-pHODlR"
      },
      "execution_count": null,
      "outputs": []
    },
    {
      "cell_type": "code",
      "source": [
        "# creat a new datafram by loading the data from source datafram\n",
        "df_user_ch_cleaned = df_usage_patterns.dropna()\n",
        "df_user_ch_cleaned.head(10)"
      ],
      "metadata": {
        "id": "7RhaRNhDiZYD"
      },
      "execution_count": null,
      "outputs": []
    },
    {
      "cell_type": "markdown",
      "source": [
        "# combining and binning data"
      ],
      "metadata": {
        "id": "_XqXprr9luuE"
      }
    },
    {
      "cell_type": "code",
      "source": [
        "df_user_ch_cleaned=pd.read_csv('user_hits_binning_import.csv' , parse_dates=['date'])"
      ],
      "metadata": {
        "id": "InsNbClyl0yU"
      },
      "execution_count": null,
      "outputs": []
    },
    {
      "cell_type": "code",
      "source": [
        "df_user_ch_cleaned.head(10)"
      ],
      "metadata": {
        "id": "m6DMoq3Rw_9A"
      },
      "execution_count": null,
      "outputs": []
    },
    {
      "cell_type": "code",
      "source": [
        "from datetime import datetime\n",
        "import numpy as np\n"
      ],
      "metadata": {
        "id": "vX47MO2uxNuR"
      },
      "execution_count": null,
      "outputs": []
    },
    {
      "cell_type": "code",
      "source": [
        "df_user_ch_cleaned['age']=(datetime.now()- pd.to_datetime(df_user_ch_cleaned['date'])).dt.days"
      ],
      "metadata": {
        "id": "mRGfFSBOzL-n"
      },
      "execution_count": null,
      "outputs": []
    },
    {
      "cell_type": "code",
      "source": [
        "df_user_ch_cleaned['age'] = (datetime(2020 , 2 , 28) - pd.to_datetime(df_user_ch_cleaned['date'])).dt.days"
      ],
      "metadata": {
        "id": "hpi4AjPn2Joe"
      },
      "execution_count": null,
      "outputs": []
    },
    {
      "cell_type": "code",
      "source": [
        "datetime.now()"
      ],
      "metadata": {
        "id": "MNs1i7a80t1t"
      },
      "execution_count": null,
      "outputs": []
    },
    {
      "cell_type": "code",
      "source": [
        "df_user_ch_cleaned.head(10)"
      ],
      "metadata": {
        "id": "S5uttxPy2Co-"
      },
      "execution_count": null,
      "outputs": []
    },
    {
      "cell_type": "code",
      "source": [
        "\n",
        "df_ages = df_user_ch_cleaned.groupby('userid').max()\n",
        "df_ages.head(10)"
      ],
      "metadata": {
        "id": "aguWeVi924P1"
      },
      "execution_count": null,
      "outputs": []
    },
    {
      "cell_type": "code",
      "source": [
        "df_ages['age_bin'] = pd.cut(x=df_ages['age'], bins=[1,365,730,1460,9999], labels=['< 1 year', '1 to 2 years','2 to 4 years', ' > 5 years'])\n",
        "\n",
        "df_ages.head()"
      ],
      "metadata": {
        "id": "Egep0aqzu8oN"
      },
      "execution_count": null,
      "outputs": []
    },
    {
      "cell_type": "code",
      "source": [
        "df_ages['age_bin'] = pd.cut(x=df_ages['age'], bins=[1,365,730,1460,9999], labels=['< 1 year', '1 to 3 years',' to 4 years', ' > 5 years'])\n",
        "\n",
        "df_ages.head()"
      ],
      "metadata": {
        "id": "eX6O-Ey345FC"
      },
      "execution_count": null,
      "outputs": []
    }
  ]
}
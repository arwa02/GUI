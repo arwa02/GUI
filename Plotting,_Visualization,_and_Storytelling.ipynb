{
  "nbformat": 4,
  "nbformat_minor": 0,
  "metadata": {
    "colab": {
      "private_outputs": true,
      "provenance": [],
      "authorship_tag": "ABX9TyNQwQpokFUQrxGTzD1PG0nR",
      "include_colab_link": true
    },
    "kernelspec": {
      "name": "python3",
      "display_name": "Python 3"
    },
    "language_info": {
      "name": "python"
    }
  },
  "cells": [
    {
      "cell_type": "markdown",
      "metadata": {
        "id": "view-in-github",
        "colab_type": "text"
      },
      "source": [
        "<a href=\"https://colab.research.google.com/github/arwa02/GUI/blob/master/Plotting%2C_Visualization%2C_and_Storytelling.ipynb\" target=\"_parent\"><img src=\"https://colab.research.google.com/assets/colab-badge.svg\" alt=\"Open In Colab\"/></a>"
      ]
    },
    {
      "cell_type": "code",
      "execution_count": null,
      "metadata": {
        "id": "6dyKHAwQZ_8y"
      },
      "outputs": [],
      "source": [
        "import pandas as pd\n",
        "import numpy as np\n",
        "import matplotlib.pyplot as plt\n",
        "%matplotlib inline"
      ]
    },
    {
      "cell_type": "code",
      "source": [
        "co_df = pd.read_csv(\"/content/COVID-19 Cases.csv\" , header = 0)"
      ],
      "metadata": {
        "id": "Ra-Pp7ayazVP"
      },
      "execution_count": null,
      "outputs": []
    },
    {
      "cell_type": "code",
      "source": [
        "co_df.head()"
      ],
      "metadata": {
        "id": "raIlULeQbGMN"
      },
      "execution_count": null,
      "outputs": []
    },
    {
      "cell_type": "code",
      "source": [
        "df_result = co_df[(co_df.Difference > 0)& (co_df.Case_Type == 'Confirmed') & (co_df.Country_Region =='Italy')]"
      ],
      "metadata": {
        "id": "Jetj_FnRbNVs"
      },
      "execution_count": null,
      "outputs": []
    },
    {
      "cell_type": "code",
      "source": [
        "df_result.info()"
      ],
      "metadata": {
        "id": "iFgEGBtEf5pT"
      },
      "execution_count": null,
      "outputs": []
    },
    {
      "cell_type": "code",
      "source": [
        "df_result.sort_values(by = 'Cases' , ascending=False)\n",
        "#print(df_result)\n",
        "df_result.head(30)"
      ],
      "metadata": {
        "id": "5EMzzd2td3Rj"
      },
      "execution_count": null,
      "outputs": []
    },
    {
      "cell_type": "code",
      "source": [
        "df_result.hist(column='Difference');"
      ],
      "metadata": {
        "id": "I3NEdIGvee7E"
      },
      "execution_count": null,
      "outputs": []
    },
    {
      "cell_type": "code",
      "source": [
        "df_result.hist(column='Cases' , color ='Green', figsize =(5, 7))\n"
      ],
      "metadata": {
        "id": "fX4tLGqJgLA0"
      },
      "execution_count": null,
      "outputs": []
    },
    {
      "cell_type": "code",
      "source": [
        "df_result['Difference'].describe()"
      ],
      "metadata": {
        "id": "NEXTNiDsiGIy"
      },
      "execution_count": null,
      "outputs": []
    },
    {
      "cell_type": "markdown",
      "source": [
        "# Boxplot"
      ],
      "metadata": {
        "id": "r7UMRhRHrQL8"
      }
    },
    {
      "cell_type": "code",
      "source": [
        "df_result = co_df[(co_df.Difference > 0)& (co_df.Case_Type == 'Confirmed') & ((co_df.Country_Region =='Italy') | (co_df.Country_Region =='Spain') | (co_df.Country_Region =='Germany'))]"
      ],
      "metadata": {
        "id": "Me99LtxYiyWZ"
      },
      "execution_count": null,
      "outputs": []
    },
    {
      "cell_type": "code",
      "source": [
        "df_result.boxplot(by = 'Country_Region' ,\n",
        "                  column =['Difference'] ,\n",
        "                  figsize=(10,5),color=\"red\" ,\n",
        "                  patch_artist=True ,\n",
        "                  positions=[10,4,6] )"
      ],
      "metadata": {
        "id": "Egu0ymUkiTDR"
      },
      "execution_count": null,
      "outputs": []
    },
    {
      "cell_type": "code",
      "source": [
        "df=df_result.boxplot(by = 'Country_Region' ,\n",
        "                     column =['Difference'] , figsize=(10,5),color=\"red\"\n",
        "                      , patch_artist=True ,\n",
        "                      positions=[1,2,3] )\n",
        "df.set_ylabel('Cases')\n",
        "df.set_title(' boxplot ')"
      ],
      "metadata": {
        "id": "MPA6FM4Ssgm0"
      },
      "execution_count": null,
      "outputs": []
    },
    {
      "cell_type": "code",
      "source": [
        "df_result.boxplot( column =['Difference'] , figsize=(10,5),color=\"red\" , patch_artist=True , positions=[5] )"
      ],
      "metadata": {
        "id": "-3c246E6pbP7"
      },
      "execution_count": null,
      "outputs": []
    },
    {
      "cell_type": "code",
      "source": [
        "#df_result.boxplot( column =['Difference'] , figsize=(10,5),color=\"red\" , patch_artist=True , positions=[0] )"
      ],
      "metadata": {
        "id": "yxM3C5uRr4Ak"
      },
      "execution_count": null,
      "outputs": []
    },
    {
      "cell_type": "code",
      "source": [
        "df_result.boxplot(by = 'Country_Region' , column =['Difference'] ,\n",
        "                  figsize=(10,5),color=\"black\" ,\n",
        "                  patch_artist=True ,\n",
        "                  vert=0)\n",
        "#vert = optional parameter accepts boolean values false and true for horizontal and vertical plot respectively"
      ],
      "metadata": {
        "id": "aHODCgSyiV8h"
      },
      "execution_count": null,
      "outputs": []
    },
    {
      "cell_type": "code",
      "source": [
        "df_result.plot(kind = 'box' , cmap=\"rainbow\" , figsize=(9,4))"
      ],
      "metadata": {
        "id": "w1Q6IlkbQwsb"
      },
      "execution_count": null,
      "outputs": []
    },
    {
      "cell_type": "code",
      "source": [
        "#df_result.plot(kind = 'box', figsize=(10,5))"
      ],
      "metadata": {
        "id": "tJKyrJDzShE-"
      },
      "execution_count": null,
      "outputs": []
    },
    {
      "cell_type": "code",
      "source": [
        "import seaborn as sns\n"
      ],
      "metadata": {
        "id": "wrBh36POMPGZ"
      },
      "execution_count": null,
      "outputs": []
    },
    {
      "cell_type": "code",
      "source": [
        "#covid = sns.load_dataset('covid')\n",
        "#covid.head()"
      ],
      "metadata": {
        "id": "LHq8780VRF7I"
      },
      "execution_count": null,
      "outputs": []
    },
    {
      "cell_type": "code",
      "source": [
        "sns.set(style='whitegrid')\n",
        "sns.boxplot(df_result , x= 'Country_Region' , y='Difference' ,\n",
        "            linewidth=2\n",
        "            ,color='pink')\n",
        "plt.figure(figsize=(10, 20))\n"
      ],
      "metadata": {
        "id": "5YqtZZGkSTDc"
      },
      "execution_count": null,
      "outputs": []
    },
    {
      "cell_type": "code",
      "source": [
        "#how to show the mean in boxplot\n",
        "sns.set(style='whitegrid')\n",
        "plt.figure(figsize=(10,5))\n",
        "sns.boxplot(df_result , x= 'Country_Region' , y='Difference' ,\n",
        "            linewidth=2,\n",
        "            color='pink',\n",
        "            showmeans=True,\n",
        "            meanprops={\"marker\": \"+\",\n",
        "                       \"markeredgecolor\": \"black\",\n",
        "                       \"markersize\": \"20\"})\n",
        "\n",
        "plt.ylabel(\"Difference\", size=14)\n",
        "plt.xlabel(\"Country_Region\", size=14)\n",
        "plt.title(\"Boxplot\", size=18)"
      ],
      "metadata": {
        "id": "NVeDooPXV_Ac"
      },
      "execution_count": null,
      "outputs": []
    },
    {
      "cell_type": "markdown",
      "source": [
        "# scatterplot"
      ],
      "metadata": {
        "id": "lP92q1aO60gV"
      }
    },
    {
      "cell_type": "code",
      "source": [
        "from google.colab import data_table\n",
        "data_table.enable_dataframe_formatter()"
      ],
      "metadata": {
        "id": "vrs7eR0CqRW6"
      },
      "execution_count": null,
      "outputs": []
    },
    {
      "cell_type": "code",
      "source": [
        "df_result2 =co_df[(co_df.Case_Type=='Confirmed') &\n",
        " (co_df.Country_Region=='Germany')]\n",
        "df_result2.head()"
      ],
      "metadata": {
        "id": "-1nwLM-Wk6VZ"
      },
      "execution_count": null,
      "outputs": []
    },
    {
      "cell_type": "code",
      "source": [
        "df_result2['Cases'].describe()"
      ],
      "metadata": {
        "id": "TmqR5mdGn23N"
      },
      "execution_count": null,
      "outputs": []
    },
    {
      "cell_type": "code",
      "source": [
        "df_result3 =co_df[(co_df.Case_Type=='Confirmed') &\n",
        " (co_df.Country_Region=='Italy')]\n",
        "df_result3.head()"
      ],
      "metadata": {
        "id": "9mTbKIZQq9Rq"
      },
      "execution_count": null,
      "outputs": []
    },
    {
      "cell_type": "code",
      "source": [
        "#colors=['red']\n",
        "plt.scatter(df_result2['Cases'],\n",
        "df_result3['Cases'] ,c='Lime',edgecolor='black' , s =222, facecolors=None);\n",
        "plt.xlabel('Germany Cases')\n",
        "plt.ylabel('Italy Cases')\n"
      ],
      "metadata": {
        "id": "3GFHsfJQsJLT"
      },
      "execution_count": null,
      "outputs": []
    },
    {
      "cell_type": "code",
      "source": [
        "plt.scatter(df_result2['Cases'],\n",
        "df_result3['Cases'] ,c=np.random.rand(len(x),3),edgecolor='black' , s =222, facecolors=None);\n",
        "plt.xlabel('Germany Cases')\n",
        "plt.ylabel('Italy Cases')\n"
      ],
      "metadata": {
        "id": "rcpbrqxlKJaV"
      },
      "execution_count": null,
      "outputs": []
    },
    {
      "cell_type": "code",
      "source": [
        "x=df_result2['Cases']\n",
        "y=df_result3['Cases']\n",
        "#plt.scatter(x, y, c=None, cmap=None ,facecolors='maroon', alpha=0.2)\n",
        "plt.scatter(x,y ,cmap='Set5',edgecolor='black' , s =14440 ,facecolors='maroon',alpha=0.2);\n",
        "plt.xlabel('Germany Cases')\n",
        "plt.ylabel('Italy Cases')"
      ],
      "metadata": {
        "id": "82poRQfuHhIY"
      },
      "execution_count": null,
      "outputs": []
    },
    {
      "cell_type": "code",
      "source": [
        "x=df_result2['Cases']\n",
        "y=df_result3['Cases']\n",
        "#plt.scatter(x, y, c=None, cmap=None ,facecolors='maroon', alpha=0.2)\n",
        "plt.scatter(x,y ,c=x,cmap='jet',edgecolor='black' , s =14440 ,facecolors='maroon',alpha=0.2);\n",
        "plt.xlabel('Germany Cases')\n",
        "plt.ylabel('Italy Cases')"
      ],
      "metadata": {
        "id": "2KiRLarILR9a"
      },
      "execution_count": null,
      "outputs": []
    },
    {
      "cell_type": "code",
      "source": [
        "#import matplotlib.cm as cm\n",
        "'''x = np.arange(10)\n",
        "ys = [i+x+(i*x)**2 for i in range(60)]\n",
        "colors = cm.rainbow(np.linspace(0, 1, len(ys)))\n",
        "for y, c in zip(ys, colors):\n",
        "  plt.scatter(df_result2['Cases'],\n",
        "df_result3['Cases']);\n",
        "plt.xlabel('Germany Cases')\n",
        "plt.ylabel('Italy Cases')'''\n",
        "\n",
        ""
      ],
      "metadata": {
        "id": "6B1QCBFfB1g6"
      },
      "execution_count": null,
      "outputs": []
    },
    {
      "cell_type": "code",
      "source": [
        "#import itertools\n",
        "\n",
        "'''colors = itertools.cycle([\"r\", \"b\", \"g\"])\n",
        "for y in ys:\n",
        "  plt.scatter(df_result2['Cases'],\n",
        "df_result3['Cases'] );\n",
        "plt.xlabel('Germany Cases')\n",
        "plt.ylabel('Italy Cases')'''\n"
      ],
      "metadata": {
        "id": "VejHhw_NDYB8"
      },
      "execution_count": null,
      "outputs": []
    },
    {
      "cell_type": "code",
      "source": [],
      "metadata": {
        "id": "bKeb7N4nEoqf"
      },
      "execution_count": null,
      "outputs": []
    },
    {
      "cell_type": "code",
      "source": [
        "co_df.plot.scatter(x= 'Country_Region' , y='Difference',\n",
        "                   title = \"Scatter plot pandas for Country_Region and Difference \" ,\n",
        "                   c = 'red');\n",
        "plt.show()"
      ],
      "metadata": {
        "id": "z-4cE21zy_1A"
      },
      "execution_count": null,
      "outputs": []
    },
    {
      "cell_type": "code",
      "source": [
        "df_result3.plot.scatter(x= 'Country_Region' ,\n",
        "                        y='Difference',\n",
        "                   c = 'red' );\n",
        "\n",
        "\n",
        "#plot.scatter(df_result3.x,co_df.y ,C='red')"
      ],
      "metadata": {
        "id": "_n-7ts4A5EzR"
      },
      "execution_count": null,
      "outputs": []
    },
    {
      "cell_type": "code",
      "source": [
        "sns.regplot(x=df_result2[\"Cases\"], y=df_result3[\"Cases\"] ,color='pink')   #use the function regplot to make a scatterplot"
      ],
      "metadata": {
        "id": "CPljslA36Ez9"
      },
      "execution_count": null,
      "outputs": []
    },
    {
      "cell_type": "markdown",
      "source": [
        "# patterns in DATA"
      ],
      "metadata": {
        "id": "PIwQ1J0xNJ-0"
      }
    },
    {
      "cell_type": "code",
      "source": [
        "pip install data-patterns\n"
      ],
      "metadata": {
        "id": "-YDBPvG2NqEX"
      },
      "execution_count": null,
      "outputs": []
    },
    {
      "cell_type": "code",
      "source": [
        "\n",
        "import data_patterns"
      ],
      "metadata": {
        "id": "20icbY5rsJQ-"
      },
      "execution_count": null,
      "outputs": []
    }
  ]
}